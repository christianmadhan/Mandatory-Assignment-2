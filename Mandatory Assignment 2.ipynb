{
 "cells": [
  {
   "cell_type": "markdown",
   "metadata": {},
   "source": [
    "<h1>What are the lyrical differences between pop, rock and hip-hop songs? </h1>\n",
    "<ul> \n",
    "    <li>\n",
    "        <p>\n",
    "            What are the common themes in each genre, are they shared or do they differentiate from genre to genre\n",
    "        </p>\n",
    "    </li>\n",
    "        <li>\n",
    "        <p>\n",
    "            Do certain genres contain more mature language than the others?\n",
    "        </p>\n",
    "    </li>\n",
    "</ul>"
   ]
  },
  {
   "cell_type": "markdown",
   "metadata": {},
   "source": []
  },
  {
   "cell_type": "code",
   "execution_count": 1,
   "metadata": {},
   "outputs": [],
   "source": [
    "import pandas"
   ]
  },
  {
   "cell_type": "code",
   "execution_count": 2,
   "metadata": {},
   "outputs": [],
   "source": [
    "lyrics = pandas.read_csv('lyrics-data.csv')\n",
    "english_songs = lyrics['Idiom'] =='ENGLISH' \n"
   ]
  },
  {
   "cell_type": "code",
   "execution_count": 3,
   "metadata": {},
   "outputs": [],
   "source": [
    "english = lyrics[english_songs]"
   ]
  },
  {
   "cell_type": "code",
   "execution_count": null,
   "metadata": {},
   "outputs": [],
   "source": []
  },
  {
   "cell_type": "code",
   "execution_count": 4,
   "metadata": {},
   "outputs": [
    {
     "name": "stdout",
     "output_type": "stream",
     "text": [
      "(3242, 6)\n"
     ]
    }
   ],
   "source": [
    "artist = pandas.read_csv('artists-data.csv')\n",
    "print(artist.shape)\n",
    "pop = artist['Genre'] == 'Pop'\n",
    "rock = artist['Genre'] == 'Rock'\n",
    "hiphop = artist['Genre'] == 'Hip Hop'\n",
    "\n",
    "popsongs = artist[pop]\n",
    "rocksongs = artist[rock]\n",
    "hiphopsongs = artist[hiphop]\n",
    "\n",
    "english_popsongs = pandas.merge(popsongs, english, left_on='Link', right_on='ALink')\n",
    "english_popsongs.to_csv('englishPopSongs.csv', index=False)\n",
    "\n",
    "english_rocksongs = pandas.merge(rocksongs, english, left_on='Link', right_on='ALink')\n",
    "english_rocksongs.to_csv('englishRockSongs.csv', index=False)\n",
    "\n",
    "english_hiphopsongs = pandas.merge(hiphopsongs, english, left_on='Link', right_on='ALink')\n",
    "english_hiphopsongs.to_csv('englishHipHopSongs.csv', index=False)\n",
    "\n"
   ]
  },
  {
   "cell_type": "code",
   "execution_count": null,
   "metadata": {},
   "outputs": [],
   "source": []
  }
 ],
 "metadata": {
  "kernelspec": {
   "display_name": "Python 3",
   "language": "python",
   "name": "python3"
  },
  "language_info": {
   "codemirror_mode": {
    "name": "ipython",
    "version": 3
   },
   "file_extension": ".py",
   "mimetype": "text/x-python",
   "name": "python",
   "nbconvert_exporter": "python",
   "pygments_lexer": "ipython3",
   "version": "3.8.3rc1"
  }
 },
 "nbformat": 4,
 "nbformat_minor": 4
}
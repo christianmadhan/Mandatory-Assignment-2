{
 "cells": [
  {
   "cell_type": "markdown",
   "metadata": {},
   "source": [
    "<h1>What are the lyrical differences between pop, rock and hip-hop songs? </h1>\n",
    "<ul> \n",
    "    <li>\n",
    "        <p>\n",
    "            What are the common themes in each genre, are they shared or do they differentiate from genre to genre\n",
    "        </p>\n",
    "    </li>\n",
    "        <li>\n",
    "        <p>\n",
    "            Do certain genres contain more mature language than the others?\n",
    "        </p>\n",
    "    </li>\n",
    "</ul>"
   ]
  },
  {
   "cell_type": "code",
   "execution_count": 2,
   "metadata": {},
   "outputs": [],
   "source": [
    "import pandas"
   ]
  },
  {
   "cell_type": "code",
   "execution_count": 3,
   "metadata": {},
   "outputs": [],
   "source": [
    "lyrics = pandas.read_csv('lyrics-data.csv')\n",
    "english_songs = lyrics['Idiom'] =='ENGLISH' \n"
   ]
  },
  {
   "cell_type": "code",
   "execution_count": 4,
   "metadata": {},
   "outputs": [],
   "source": [
    "english = lyrics[english_songs]"
   ]
  },
  {
   "cell_type": "code",
   "execution_count": 5,
   "metadata": {},
   "outputs": [
    {
     "name": "stdout",
     "output_type": "stream",
     "text": [
      "(3242, 6)\n"
     ]
    }
   ],
   "source": [
    "artist = pandas.read_csv('artists-data.csv')\n",
    "print(artist.shape)\n",
    "pop = artist['Genre'] == 'Pop'\n",
    "rock = artist['Genre'] == 'Rock'\n",
    "hiphop = artist['Genre'] == 'Hip Hop'\n",
    "\n",
    "popsongs = artist[pop]\n",
    "rocksongs = artist[rock]\n",
    "hiphopsongs = artist[hiphop]\n",
    "\n",
    "english_popsongs = pandas.merge(popsongs, english, left_on='Link', right_on='ALink')\n",
    "english_popsongs.to_csv('englishPopSongs.csv', index=False)\n",
    "\n",
    "english_rocksongs = pandas.merge(rocksongs, english, left_on='Link', right_on='ALink')\n",
    "english_rocksongs.to_csv('englishRockSongs.csv', index=False)\n",
    "\n",
    "english_hiphopsongs = pandas.merge(hiphopsongs, english, left_on='Link', right_on='ALink')\n",
    "english_hiphopsongs.to_csv('englishHipHopSongs.csv', index=False)\n",
    "\n"
   ]
  },
  {
   "cell_type": "code",
   "execution_count": 6,
   "metadata": {},
   "outputs": [],
   "source": [
    "\n",
    "# Apply a first round of text cleaning techniques\n",
    "import re\n",
    "import string\n",
    "\n",
    "def clean_text_round1(text):\n",
    "    '''Make text lowercase, remove text in square brackets, remove punctuation and remove words containing numbers.'''\n",
    "    text = text.lower()\n",
    "    text = re.sub('\\[.*?\\]', '', text)\n",
    "    text = re.sub('[%s]' % re.escape(string.punctuation), '', text)\n",
    "    text = re.sub('\\w*\\d\\w*', '', text)\n",
    "    return text\n",
    "\n",
    "round1 = lambda x: clean_text_round1(x)"
   ]
  },
  {
   "cell_type": "code",
   "execution_count": 7,
   "metadata": {},
   "outputs": [],
   "source": [
    "# Apply a second round of cleaning\n",
    "def clean_text_round2(text):\n",
    "    '''Get rid of some additional punctuation and non-sensical text that was missed the first time around.'''\n",
    "    text = re.sub('[‘’“”…]', '', text)\n",
    "    text = re.sub('\\n', '', text)\n",
    "    return text\n",
    "\n",
    "round2 = lambda x: clean_text_round2(x)"
   ]
  },
  {
   "cell_type": "code",
   "execution_count": 8,
   "metadata": {},
   "outputs": [],
   "source": [
    "# Apply a third round of cleaning\n",
    "def clean_text_round3(text):\n",
    "    '''Get rid of â€™Ă©Ł§ˇŞ '''\n",
    "    text = re.sub('[^A-Za-z0-9 ]+', '',text)\n",
    "    return text\n",
    "\n",
    "round3 = lambda x: clean_text_round3(x)"
   ]
  },
  {
   "cell_type": "code",
   "execution_count": 9,
   "metadata": {},
   "outputs": [],
   "source": [
    "data_clean_round1 = pandas.DataFrame(english_popsongs['Lyric'].apply(clean_text_round1))"
   ]
  },
  {
   "cell_type": "code",
   "execution_count": 10,
   "metadata": {},
   "outputs": [],
   "source": [
    "data_clean_round2 = pandas.DataFrame(data_clean_round1['Lyric'].apply(clean_text_round2))"
   ]
  },
  {
   "cell_type": "code",
   "execution_count": 11,
   "metadata": {},
   "outputs": [],
   "source": [
    "data_clean_round3 = pandas.DataFrame(data_clean_round2['Lyric'].apply(clean_text_round3))"
   ]
  },
  {
   "cell_type": "code",
   "execution_count": 12,
   "metadata": {},
   "outputs": [],
   "source": [
    "data_clean_round3.to_csv('round3.csv', index=False)"
   ]
  },
  {
   "cell_type": "code",
   "execution_count": 13,
   "metadata": {},
   "outputs": [],
   "source": [
    "from nltk.corpus import stopwords\n",
    "from nltk.tokenize import word_tokenize\n"
   ]
  },
  {
   "cell_type": "code",
   "execution_count": 34,
   "metadata": {},
   "outputs": [],
   "source": [
    "# remove stop words\n",
    "def clean_text_round4(text):\n",
    "    stop_words = set(stopwords.words(\"english\"))\n",
    "    words = word_tokenize(text)\n",
    "    cleanedText = '';\n",
    "    for word in words:\n",
    "        if word not in stop_words:\n",
    "            cleanedText += '{} '.format(word)\n",
    "    return cleanedText"
   ]
  },
  {
   "cell_type": "code",
   "execution_count": 35,
   "metadata": {},
   "outputs": [],
   "source": [
    "data_clean_round4 = pandas.DataFrame(data_clean_round3['Lyric'].apply(clean_text_round4))"
   ]
  },
  {
   "cell_type": "code",
   "execution_count": 36,
   "metadata": {},
   "outputs": [],
   "source": [
    "data_clean_round4.to_csv('round4.csv', index=False)"
   ]
  },
  {
   "cell_type": "code",
   "execution_count": 19,
   "metadata": {},
   "outputs": [
    {
     "name": "stdout",
     "output_type": "stream",
     "text": [
      "{'doesn', 'through', 'weren', 'why', 'needn', 'shan', 'mightn', 'shouldn', 'can', 'ain', 'ourselves', 'over', \"couldn't\", 'wouldn', 'above', 'has', 'all', 'am', 'yourself', \"needn't\", 'i', 'ours', 'have', 'further', 'couldn', 'ma', 'didn', 'only', 'same', 'more', 'isn', \"you're\", 'some', 'which', 'against', 'him', \"you'll\", 'who', 'what', 'hers', 'himself', \"aren't\", 'as', 'or', 'theirs', 'here', 'myself', 'yours', 're', 'its', 'for', \"should've\", 'll', 'once', 'under', 'haven', 'mustn', 'where', 'won', 'we', 'these', \"you've\", 'nor', 'themselves', \"you'd\", \"hadn't\", 'out', 'after', 'any', 'his', 'into', 'don', 'both', 'an', 'not', 'from', 'their', 'be', 'such', 'during', 'and', \"it's\", \"don't\", 'but', \"weren't\", 'of', 'so', 'should', 'herself', \"hasn't\", 'other', \"that'll\", 'it', 'was', \"didn't\", 'too', 'were', 'whom', 'being', \"isn't\", 'hadn', 'her', 'below', 'o', 'they', 'been', 'do', 'our', 'did', 'while', \"mightn't\", 'he', 'this', 'up', 'before', 'to', 'that', \"she's\", 'just', 've', 'y', \"shan't\", \"won't\", 'between', 'd', 'most', 'wasn', 'in', 'the', 'aren', 'now', 'me', 'hasn', \"wouldn't\", 'doing', 'by', 'itself', 'because', 'no', 'does', 't', 's', 'down', 'having', 'your', 'at', 'my', 'if', 'very', 'had', 'yourselves', 'm', 'them', 'is', 'with', 'then', 'when', \"doesn't\", \"haven't\", 'each', 'off', 'will', \"wasn't\", \"shouldn't\", 'those', 'she', 'you', 'than', 'are', 'until', 'again', 'on', 'few', 'own', \"mustn't\", 'a', 'there', 'about', 'how'}\n"
     ]
    }
   ],
   "source": [
    "stop_words = set(stopwords.words(\"english\"))\n",
    "print(stop_words)"
   ]
  },
  {
   "cell_type": "code",
   "execution_count": null,
   "metadata": {},
   "outputs": [],
   "source": []
  }
 ],
 "metadata": {
  "kernelspec": {
   "display_name": "Python 3",
   "language": "python",
   "name": "python3"
  },
  "language_info": {
   "codemirror_mode": {
    "name": "ipython",
    "version": 3
   },
   "file_extension": ".py",
   "mimetype": "text/x-python",
   "name": "python",
   "nbconvert_exporter": "python",
   "pygments_lexer": "ipython3",
   "version": "3.8.3rc1"
  }
 },
 "nbformat": 4,
 "nbformat_minor": 4
}

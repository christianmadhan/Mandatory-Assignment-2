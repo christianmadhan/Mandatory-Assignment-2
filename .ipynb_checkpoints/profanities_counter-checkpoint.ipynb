{
 "cells": [
  {
   "cell_type": "code",
   "execution_count": 12,
   "metadata": {},
   "outputs": [],
   "source": [
    "import pandas"
   ]
  },
  {
   "cell_type": "code",
   "execution_count": 13,
   "metadata": {},
   "outputs": [],
   "source": [
    "lyrics = pandas.read_csv('lyrics-data.csv')\n",
    "english_songs = lyrics['Idiom'] =='ENGLISH' \n"
   ]
  },
  {
   "cell_type": "code",
   "execution_count": 14,
   "metadata": {},
   "outputs": [],
   "source": [
    "english = lyrics[english_songs]\n"
   ]
  },
  {
   "cell_type": "code",
   "execution_count": 15,
   "metadata": {},
   "outputs": [
    {
     "name": "stdout",
     "output_type": "stream",
     "text": [
      "(3242, 6)\n"
     ]
    }
   ],
   "source": [
    "artist = pandas.read_csv('artists-data.csv')\n",
    "print(artist.shape)\n",
    "hiphop = artist['Genre'] == 'Hip Hop'\n",
    "rock = artist['Genre'] == 'Rock'\n",
    "pop = artist['Genre'] == 'Pop'\n",
    "\n",
    "\n",
    "hiphopsongs = artist[hiphop]\n",
    "popsongs = artist[pop]\n",
    "rocksongs = artist[rock]\n",
    "\n",
    "english_hiphopsongs = pandas.merge(hiphopsongs, english, left_on='Link', right_on='ALink')\n",
    "english_popsongs = pandas.merge(popsongs, english, left_on='Link', right_on='ALink')\n",
    "english_rocksongs = pandas.merge(rocksongs, english, left_on='Link', right_on='ALink')\n"
   ]
  },
  {
   "cell_type": "code",
   "execution_count": 16,
   "metadata": {},
   "outputs": [],
   "source": [
    "\n",
    "# Apply a first round of text cleaning techniques\n",
    "import re\n",
    "import string\n",
    "\n",
    "def clean_text_round1(text):\n",
    "    '''Make text lowercase, remove text in square brackets, remove punctuation and remove words containing numbers.'''\n",
    "    text = text.lower()\n",
    "    text = re.sub('\\[.*?\\]', '', text)\n",
    "    text = re.sub('[%s]' % re.escape(string.punctuation), '', text)\n",
    "    text = re.sub('\\w*\\d\\w*', '', text)\n",
    "    return text\n",
    "\n",
    "round1 = lambda x: clean_text_round1(x)"
   ]
  },
  {
   "cell_type": "code",
   "execution_count": 17,
   "metadata": {},
   "outputs": [],
   "source": [
    "# Apply a second round of cleaning\n",
    "def clean_text_round2(text):\n",
    "    '''Get rid of some additional punctuation and non-sensical text that was missed the first time around.'''\n",
    "    text = re.sub(\"[‘’“”…]\", \"\", text)\n",
    "    text = re.sub(\"\\n\", \"\", text)\n",
    "    text = text.replace(\"'\", \"\")\n",
    "    text = text.replace('\\u2026', '')\n",
    "    text = re.sub(r\"$\\d+\\W+|\\b\\d+\\b|\\W+\\d+$\", \"\", text)\n",
    "    text = re.sub(\"[\\.][\\.][\\.]\", \"\", text)\n",
    "    return text\n",
    "\n",
    "round2 = lambda x: clean_text_round2(x)"
   ]
  },
  {
   "cell_type": "code",
   "execution_count": 18,
   "metadata": {},
   "outputs": [],
   "source": [
    "# Apply a third round of cleaning\n",
    "def clean_text_round3(text):\n",
    "    '''Get rid of â€™Ă©Ł§ˇŞ '''\n",
    "    text = re.sub('[^A-Za-z0-9 ]+', '',text)\n",
    "    text = re.sub(\"[\\.][\\.][\\.]\", \"\", text)\n",
    "    text = text.replace('...', '')\n",
    "    \n",
    "    return text\n",
    "\n",
    "round3 = lambda x: clean_text_round3(x)"
   ]
  },
  {
   "cell_type": "code",
   "execution_count": 25,
   "metadata": {},
   "outputs": [],
   "source": [
    "from collections import Counter \n",
    "# REMOVE DUPLICATES WORDS  \n",
    "def clean_text_round4(input): \n",
    "  \n",
    "    # split input string separated by space \n",
    "    input = input.split(\" \") \n",
    "  \n",
    "    # joins two adjacent elements in iterable way \n",
    "    for i in range(0, len(input)): \n",
    "        input[i] = \"\".join(input[i]) \n",
    "  \n",
    "    # now create dictionary using counter method \n",
    "    # which will have strings as key and their  \n",
    "    # frequencies as value \n",
    "    UniqW = Counter(input) \n",
    "  \n",
    "    # joins two adjacent elements in iterable way \n",
    "    s = \" \".join(UniqW.keys()) \n",
    "    return s\n",
    "round4 = lambda x: clean_text_round4(x)"
   ]
  },
  {
   "cell_type": "code",
   "execution_count": 27,
   "metadata": {},
   "outputs": [],
   "source": [
    "from nltk.corpus import stopwords\n",
    "from nltk.tokenize import word_tokenize\n",
    "\n",
    "# remove stop words\n",
    "def clean_text_round5(text):\n",
    "    stop_words = set(stopwords.words(\"english\"))\n",
    "    stop_words.update(['im','know','like','dont','got','na','cant','oh','let','youre','get','yeah','ive','right','s','theres','ta','put','gon','ill','come','youve','weve', 'first'])\n",
    "    words = word_tokenize(text)\n",
    "    cleanedText = '';\n",
    "    for word in words:\n",
    "        if word not in stop_words:\n",
    "            cleanedText += '{} '.format(word)\n",
    "    return cleanedText\n",
    "round5 = lambda x: clean_text_round5(x)"
   ]
  },
  {
   "cell_type": "code",
   "execution_count": 19,
   "metadata": {},
   "outputs": [],
   "source": [
    "from nltk.corpus import stopwords\n",
    "from nltk.tokenize import word_tokenize\n",
    "\n",
    "# remove stop words\n",
    "def clean_text_round5(text):\n",
    "    stop_words = set(stopwords.words(\"english\"))\n",
    "    stop_words.update(['im','know','like','dont','got','na','cant','oh','let','youre','get','yeah','ive','right','s','theres','ta','put','gon','ill','come','youve','weve', 'first', 'huh','da','intro','hello','em', 'la', 'ah','doin','ay'])\n",
    "    words = word_tokenize(text)\n",
    "    cleanedText = '';\n",
    "    for word in words:\n",
    "        if word not in stop_words:\n",
    "            cleanedText += '{} '.format(word)\n",
    "    return cleanedText\n",
    "round5 = lambda x: clean_text_round5(x)"
   ]
  },
  {
   "cell_type": "code",
   "execution_count": 20,
   "metadata": {},
   "outputs": [],
   "source": [
    "from nltk.stem import \tWordNetLemmatizer\n",
    "import nltk\n",
    "def remove_dots(arr):\n",
    "    wordnet_lemmatizer = WordNetLemmatizer()\n",
    "    text = arr.to_string()\n",
    "    nltk_tokens = nltk.word_tokenize(text)\n",
    "    stop = ['...','t','s', 'w', 'b', 'ya', 'yo','ye','lo','side','st','wa','thats', 'wont', 'hold', 'wan', 'make', 'every', 'whats', 'id', 'cause', 'ever', 'thing', 'could', 'would', 'aint','going','lets','whats', 'didnt','way', 'verse', 'choru', 'uh', 'co', 'chorus']\n",
    "    text_arr = []\n",
    "    for token in nltk_tokens:\n",
    "        if token not in stop:\n",
    "            wordnet_lemmatizer.lemmatize(token)\n",
    "            text_arr.append(token)\n",
    "    return text_arr\n"
   ]
  },
  {
   "cell_type": "code",
   "execution_count": 21,
   "metadata": {},
   "outputs": [],
   "source": [
    "rock_data_clean_round1 = pandas.DataFrame(english_rocksongs['Lyric'].apply(clean_text_round1))\n",
    "hiphop_data_clean_round1 = pandas.DataFrame(english_hiphopsongs['Lyric'].apply(clean_text_round1))\n",
    "pop_data_clean_round1 = pandas.DataFrame(english_popsongs['Lyric'].apply(clean_text_round1))"
   ]
  },
  {
   "cell_type": "code",
   "execution_count": 22,
   "metadata": {},
   "outputs": [],
   "source": [
    "pop_data_clean_round2 = pandas.DataFrame(pop_data_clean_round1['Lyric'].apply(clean_text_round2))\n",
    "rock_data_clean_round2 = pandas.DataFrame(rock_data_clean_round1['Lyric'].apply(clean_text_round2))\n",
    "hiphop_data_clean_round2 = pandas.DataFrame(hiphop_data_clean_round1['Lyric'].apply(clean_text_round2))"
   ]
  },
  {
   "cell_type": "code",
   "execution_count": 23,
   "metadata": {},
   "outputs": [],
   "source": [
    "hiphop_data_clean_round3 = pandas.DataFrame(hiphop_data_clean_round2['Lyric'].apply(clean_text_round3))\n",
    "rock_data_clean_round3 = pandas.DataFrame(rock_data_clean_round2['Lyric'].apply(clean_text_round3))\n",
    "pop_data_clean_round3 = pandas.DataFrame(pop_data_clean_round2['Lyric'].apply(clean_text_round3))"
   ]
  },
  {
   "cell_type": "code",
   "execution_count": 26,
   "metadata": {},
   "outputs": [],
   "source": [
    "hiphop_data_clean_round4 = pandas.DataFrame(hiphop_data_clean_round3['Lyric'].apply(clean_text_round4))\n",
    "rock_data_clean_round4 = pandas.DataFrame(rock_data_clean_round3['Lyric'].apply(clean_text_round4))\n",
    "pop_data_clean_round4 = pandas.DataFrame(pop_data_clean_round3['Lyric'].apply(clean_text_round4))"
   ]
  },
  {
   "cell_type": "code",
   "execution_count": 28,
   "metadata": {},
   "outputs": [],
   "source": [
    "hiphop_data_clean_round5 = pandas.DataFrame(hiphop_data_clean_round4['Lyric'].apply(clean_text_round5))\n",
    "rock_data_clean_round5 = pandas.DataFrame(rock_data_clean_round4['Lyric'].apply(clean_text_round5))\n",
    "pop_data_clean_round5 = pandas.DataFrame(pop_data_clean_round4['Lyric'].apply(clean_text_round5))"
   ]
  },
  {
   "cell_type": "code",
   "execution_count": 57,
   "metadata": {},
   "outputs": [],
   "source": [
    "from collections import Counter\n",
    "import nltk\n",
    "\n",
    "def common_words(arr):\n",
    "    profanities = ['fuck','nigga','shit','bitch','niggaz','motherfucker','hoe','ass','fuckin','bitches']\n",
    "    text = ' '.join(map(str, arr))\n",
    "    nltk_tokens = nltk.word_tokenize(text)\n",
    "    # Pass the split_it list to instance of Counter class. \n",
    "    _Counter = Counter(nltk_tokens) \n",
    "  \n",
    "    # most_common() produces k frequently encountered \n",
    "    # input values and their respective counts.\n",
    "    most_occur = _Counter.most_common(5)\n",
    "    print(most_occur[0][0])\n",
    "    most_profanities = [(w, most_occur.count(w)) for w in set(most_occur[0][0]) if w in profanities]\n",
    "    return most_profanities\n"
   ]
  },
  {
   "cell_type": "code",
   "execution_count": 58,
   "metadata": {},
   "outputs": [
    {
     "data": {
      "text/plain": [
       "[]"
      ]
     },
     "execution_count": 58,
     "metadata": {},
     "output_type": "execute_result"
    }
   ],
   "source": [
    "r = remove_dots(rock_data_clean_round5['Lyric'])\n",
    "w = common_words(r)\n",
    "w"
   ]
  },
  {
   "cell_type": "code",
   "execution_count": null,
   "metadata": {},
   "outputs": [],
   "source": []
  },
  {
   "cell_type": "code",
   "execution_count": null,
   "metadata": {},
   "outputs": [],
   "source": []
  }
 ],
 "metadata": {
  "kernelspec": {
   "display_name": "Python 3",
   "language": "python",
   "name": "python3"
  },
  "language_info": {
   "codemirror_mode": {
    "name": "ipython",
    "version": 3
   },
   "file_extension": ".py",
   "mimetype": "text/x-python",
   "name": "python",
   "nbconvert_exporter": "python",
   "pygments_lexer": "ipython3",
   "version": "3.8.3rc1"
  }
 },
 "nbformat": 4,
 "nbformat_minor": 4
}

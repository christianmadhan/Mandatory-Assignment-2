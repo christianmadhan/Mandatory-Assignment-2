{
 "cells": [
  {
   "cell_type": "markdown",
   "metadata": {},
   "source": [
    "<h1>What are the lyrical differences between pop, rock and hip-hop songs? </h1>\n",
    "<ul> \n",
    "    <li>\n",
    "        <p>\n",
    "            What are the common themes in each genre, are they shared or do they differentiate from genre to genre\n",
    "        </p>\n",
    "    </li>\n",
    "        <li>\n",
    "        <p>\n",
    "            Do certain genres contain more mature language than the others?\n",
    "        </p>\n",
    "    </li>\n",
    "</ul>\n"
   ]
  },
  {
   "cell_type": "code",
   "execution_count": 1,
   "metadata": {},
   "outputs": [],
   "source": [
    "import pandas"
   ]
  },
  {
   "cell_type": "code",
   "execution_count": 2,
   "metadata": {},
   "outputs": [],
   "source": [
    "lyrics = pandas.read_csv('lyrics-data.csv')\n",
    "english_songs = lyrics['Idiom'] =='ENGLISH' \n"
   ]
  },
  {
   "cell_type": "code",
   "execution_count": 3,
   "metadata": {},
   "outputs": [],
   "source": [
    "english = lyrics[english_songs]"
   ]
  },
  {
   "cell_type": "code",
   "execution_count": 4,
   "metadata": {},
   "outputs": [
    {
     "name": "stdout",
     "output_type": "stream",
     "text": [
      "(3242, 6)\n"
     ]
    }
   ],
   "source": [
    "artist = pandas.read_csv('artists-data.csv')\n",
    "print(artist.shape)\n",
    "rock = artist['Genre'] == 'Rock'\n",
    "\n",
    "rocksongs = artist[rock]\n",
    "\n",
    "english_rocksongs = pandas.merge(rocksongs, english, left_on='Link', right_on='ALink')\n",
    "english_rocksongs.to_csv('englishRockSongs.csv', index=False)\n"
   ]
  },
  {
   "cell_type": "code",
   "execution_count": 5,
   "metadata": {},
   "outputs": [],
   "source": [
    "\n",
    "# Apply a first round of text cleaning techniques\n",
    "import re\n",
    "import string\n",
    "\n",
    "def clean_text_round1(text):\n",
    "    '''Make text lowercase, remove text in square brackets, remove punctuation and remove words containing numbers.'''\n",
    "    text = text.lower()\n",
    "    text = re.sub('\\[.*?\\]', '', text)\n",
    "    text = re.sub('[%s]' % re.escape(string.punctuation), '', text)\n",
    "    text = re.sub('\\w*\\d\\w*', '', text)\n",
    "    return text\n",
    "\n",
    "round1 = lambda x: clean_text_round1(x)"
   ]
  },
  {
   "cell_type": "code",
   "execution_count": 6,
   "metadata": {},
   "outputs": [],
   "source": [
    "# Apply a second round of cleaning\n",
    "def clean_text_round2(text):\n",
    "    '''Get rid of some additional punctuation and non-sensical text that was missed the first time around.'''\n",
    "    text = re.sub(\"[‘’“”…]\", \"\", text)\n",
    "    text = re.sub(\"\\n\", \"\", text)\n",
    "    text = text.replace(\"'\", \"\")\n",
    "    text = text.replace('\\u2026', '')\n",
    "    text = re.sub(r\"$\\d+\\W+|\\b\\d+\\b|\\W+\\d+$\", \"\", text)\n",
    "    text = re.sub(\"[\\.][\\.][\\.]\", \"\", text)\n",
    "    return text\n",
    "\n",
    "round2 = lambda x: clean_text_round2(x)"
   ]
  },
  {
   "cell_type": "code",
   "execution_count": 7,
   "metadata": {},
   "outputs": [],
   "source": [
    "# Apply a third round of cleaning\n",
    "def clean_text_round3(text):\n",
    "    '''Get rid of â€™Ă©Ł§ˇŞ '''\n",
    "    text = re.sub('[^A-Za-z0-9 ]+', '',text)\n",
    "    text = re.sub(\"[\\.][\\.][\\.]\", \"\", text)\n",
    "    text = text.replace('...', '')\n",
    "    \n",
    "    return text\n",
    "\n",
    "round3 = lambda x: clean_text_round3(x)"
   ]
  },
  {
   "cell_type": "code",
   "execution_count": 8,
   "metadata": {},
   "outputs": [],
   "source": [
    "from collections import Counter \n",
    "# REMOVE DUPLICATES WORDS  \n",
    "def clean_text_round4(input): \n",
    "  \n",
    "    # split input string separated by space \n",
    "    input = input.split(\" \") \n",
    "  \n",
    "    # joins two adjacent elements in iterable way \n",
    "    for i in range(0, len(input)): \n",
    "        input[i] = \"\".join(input[i]) \n",
    "  \n",
    "    # now create dictionary using counter method \n",
    "    # which will have strings as key and their  \n",
    "    # frequencies as value \n",
    "    UniqW = Counter(input) \n",
    "  \n",
    "    # joins two adjacent elements in iterable way \n",
    "    s = \" \".join(UniqW.keys()) \n",
    "    return s\n",
    "round4 = lambda x: clean_text_round4(x)"
   ]
  },
  {
   "cell_type": "code",
   "execution_count": 21,
   "metadata": {},
   "outputs": [],
   "source": [
    "from nltk.corpus import stopwords\n",
    "from nltk.tokenize import word_tokenize\n",
    "\n",
    "# remove stop words\n",
    "def clean_text_round5(text):\n",
    "    stop_words = set(stopwords.words(\"english\"))\n",
    "    stop_words.update(['im','know','like','dont','got','na','cant','oh','let','youre','get','yeah','ive','right','s','theres','ta','put','gon','ill','come','youve'])\n",
    "    words = word_tokenize(text)\n",
    "    cleanedText = '';\n",
    "    for word in words:\n",
    "        if word not in stop_words:\n",
    "            cleanedText += '{} '.format(word)\n",
    "    return cleanedText\n",
    "round5 = lambda x: clean_text_round5(x)"
   ]
  },
  {
   "cell_type": "code",
   "execution_count": 22,
   "metadata": {},
   "outputs": [],
   "source": [
    "from collections import Counter\n",
    "import nltk\n",
    "\n",
    "def common_words(arr):\n",
    "    text = ' '.join(map(str, arr))\n",
    "    nltk_tokens = nltk.word_tokenize(text)\n",
    "    # Pass the split_it list to instance of Counter class. \n",
    "    _Counter = Counter(nltk_tokens) \n",
    "  \n",
    "    # most_common() produces k frequently encountered \n",
    "    # input values and their respective counts. \n",
    "    most_occur = _Counter.most_common(100)\n",
    "    return most_occur"
   ]
  },
  {
   "cell_type": "code",
   "execution_count": 23,
   "metadata": {},
   "outputs": [],
   "source": [
    "from nltk.stem import \tWordNetLemmatizer\n",
    "import nltk\n",
    "def remove_dots(arr):\n",
    "    wordnet_lemmatizer = WordNetLemmatizer()\n",
    "    text = arr.to_string()\n",
    "    nltk_tokens = nltk.word_tokenize(text)\n",
    "    stop = ['...', 't','s', 'w', 'b', 'ya', 'yo','ye','lo','side','st','wa','thats', 'wont', 'hold', 'wan', 'make', 'every', 'whats', 'id', 'cause', 'ever', 'thing', 'could', 'would', 'aint','going','lets','whats', 'didnt','way', 'verse', 'choru', 'uh', 'co', 'chorus']\n",
    "    text_arr = []\n",
    "    for token in nltk_tokens:\n",
    "        if token not in stop:\n",
    "            wordnet_lemmatizer.lemmatize(token)\n",
    "            text_arr.append(token)\n",
    "    return text_arr\n"
   ]
  },
  {
   "cell_type": "code",
   "execution_count": 24,
   "metadata": {},
   "outputs": [],
   "source": [
    "rock_data_clean_round1 = pandas.DataFrame(english_rocksongs['Lyric'].apply(clean_text_round1))"
   ]
  },
  {
   "cell_type": "code",
   "execution_count": 25,
   "metadata": {},
   "outputs": [],
   "source": [
    "rock_data_clean_round2 = pandas.DataFrame(rock_data_clean_round1['Lyric'].apply(clean_text_round2))"
   ]
  },
  {
   "cell_type": "code",
   "execution_count": 26,
   "metadata": {},
   "outputs": [],
   "source": [
    "rock_data_clean_round3 = pandas.DataFrame(rock_data_clean_round2['Lyric'].apply(clean_text_round3))"
   ]
  },
  {
   "cell_type": "code",
   "execution_count": 27,
   "metadata": {},
   "outputs": [],
   "source": [
    "rock_data_clean_round4 = pandas.DataFrame(rock_data_clean_round3['Lyric'].apply(clean_text_round4))"
   ]
  },
  {
   "cell_type": "code",
   "execution_count": 28,
   "metadata": {},
   "outputs": [],
   "source": [
    "rock_data_clean_round5 = pandas.DataFrame(rock_data_clean_round4['Lyric'].apply(clean_text_round5))"
   ]
  },
  {
   "cell_type": "code",
   "execution_count": null,
   "metadata": {},
   "outputs": [],
   "source": []
  },
  {
   "cell_type": "code",
   "execution_count": 29,
   "metadata": {},
   "outputs": [
    {
     "data": {
      "text/plain": [
       "[('love', 3817),\n",
       " ('time', 3550),\n",
       " ('see', 3526),\n",
       " ('one', 3165),\n",
       " ('go', 3093),\n",
       " ('well', 2873),\n",
       " ('say', 2685),\n",
       " ('never', 2479),\n",
       " ('take', 2335),\n",
       " ('want', 2312),\n",
       " ('feel', 2294),\n",
       " ('night', 2223),\n",
       " ('day', 2010),\n",
       " ('life', 1962),\n",
       " ('baby', 1932),\n",
       " ('back', 1869),\n",
       " ('away', 1837),\n",
       " ('tell', 1811),\n",
       " ('eyes', 1806),\n",
       " ('world', 1687),\n",
       " ('think', 1618),\n",
       " ('heart', 1618),\n",
       " ('man', 1597),\n",
       " ('look', 1536),\n",
       " ('little', 1517),\n",
       " ('long', 1494),\n",
       " ('need', 1454),\n",
       " ('said', 1380),\n",
       " ('around', 1358),\n",
       " ('girl', 1340),\n",
       " ('words', 1328),\n",
       " ('mind', 1284),\n",
       " ('things', 1231),\n",
       " ('good', 1218),\n",
       " ('always', 1142),\n",
       " ('home', 1120),\n",
       " ('sun', 1107),\n",
       " ('hear', 1096),\n",
       " ('alone', 1087),\n",
       " ('music', 1085),\n",
       " ('find', 1074),\n",
       " ('give', 1045),\n",
       " ('something', 1038),\n",
       " ('hey', 1033),\n",
       " ('nothing', 1025),\n",
       " ('head', 1016),\n",
       " ('face', 1011),\n",
       " ('light', 1010),\n",
       " ('gone', 971),\n",
       " ('keep', 968),\n",
       " ('shes', 959),\n",
       " ('people', 952),\n",
       " ('old', 946),\n",
       " ('place', 918),\n",
       " ('left', 916),\n",
       " ('still', 908),\n",
       " ('inside', 908),\n",
       " ('try', 897),\n",
       " ('much', 893),\n",
       " ('us', 873),\n",
       " ('lost', 859),\n",
       " ('walk', 857),\n",
       " ('another', 847),\n",
       " ('last', 841),\n",
       " ('everything', 829),\n",
       " ('new', 807),\n",
       " ('made', 803),\n",
       " ('thought', 786),\n",
       " ('turn', 782),\n",
       " ('morning', 767),\n",
       " ('tonight', 765),\n",
       " ('c', 764),\n",
       " ('hard', 759),\n",
       " ('live', 753),\n",
       " ('leave', 726),\n",
       " ('days', 719),\n",
       " ('really', 714),\n",
       " ('better', 713),\n",
       " ('feeling', 705),\n",
       " ('l', 697),\n",
       " ('looking', 685),\n",
       " ('cold', 683),\n",
       " ('fall', 680),\n",
       " ('came', 680),\n",
       " ('hand', 679),\n",
       " ('call', 677),\n",
       " ('believe', 677),\n",
       " ('run', 673),\n",
       " ('sky', 667),\n",
       " ('wrong', 662),\n",
       " ('dream', 659),\n",
       " ('far', 654),\n",
       " ('today', 653),\n",
       " ('comes', 650),\n",
       " ('f', 635),\n",
       " ('two', 629),\n",
       " ('saw', 627),\n",
       " ('remember', 624),\n",
       " ('stay', 623),\n",
       " ('bad', 622)]"
      ]
     },
     "execution_count": 29,
     "metadata": {},
     "output_type": "execute_result"
    }
   ],
   "source": [
    "from wordcloud import WordCloud, STOPWORDS \n",
    "import matplotlib.pyplot as plt \n",
    "\n",
    "r = remove_dots(rock_data_clean_round5['Lyric'])\n",
    "w = common_words(r)\n",
    "\n",
    "text = ' '.join(r)\n",
    "wordcloud = WordCloud(width = 800, height = 800, \n",
    "                background_color ='white',  \n",
    "                min_font_size = 10).generate(text) \n",
    "  \n",
    "# plot the WordCloud image                        \n",
    "plt.figure(figsize = (8, 8), facecolor = None) \n",
    "plt.imshow(wordcloud) \n",
    "plt.axis(\"off\") \n",
    "plt.tight_layout(pad = 0) \n",
    "  \n",
    "plt.show()"
   ]
  },
  {
   "cell_type": "markdown",
   "metadata": {},
   "source": [
    " "
   ]
  },
  {
   "cell_type": "code",
   "execution_count": null,
   "metadata": {},
   "outputs": [],
   "source": []
  }
 ],
 "metadata": {
  "kernelspec": {
   "display_name": "Python 3",
   "language": "python",
   "name": "python3"
  },
  "language_info": {
   "codemirror_mode": {
    "name": "ipython",
    "version": 3
   },
   "file_extension": ".py",
   "mimetype": "text/x-python",
   "name": "python",
   "nbconvert_exporter": "python",
   "pygments_lexer": "ipython3",
   "version": "3.8.2"
  }
 },
 "nbformat": 4,
 "nbformat_minor": 4
}

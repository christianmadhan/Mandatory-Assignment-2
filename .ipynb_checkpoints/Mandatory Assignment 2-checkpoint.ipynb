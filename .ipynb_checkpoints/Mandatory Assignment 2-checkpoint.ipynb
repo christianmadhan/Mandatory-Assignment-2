{
 "cells": [
  {
   "cell_type": "markdown",
   "metadata": {},
   "source": [
    "<h1>What are the lyrical differences between pop, rock and hip-hop songs? </h1>\n",
    "<ul> \n",
    "    <li>\n",
    "        <p>\n",
    "            What are the common themes in each genre, are they shared or do they differentiate from genre to genre\n",
    "        </p>\n",
    "    </li>\n",
    "        <li>\n",
    "        <p>\n",
    "            Do certain genres contain more mature language than the others?\n",
    "        </p>\n",
    "    </li>\n",
    "</ul>"
   ]
  },
  {
   "cell_type": "code",
   "execution_count": 1,
   "metadata": {},
   "outputs": [],
   "source": [
    "import pandas"
   ]
  },
  {
   "cell_type": "markdown",
   "metadata": {},
   "source": [
    "<p> First we read the lyric excel file and filter out all the songs which does <i>not</i> have the Idiom English  </p>"
   ]
  },
  {
   "cell_type": "code",
   "execution_count": 2,
   "metadata": {},
   "outputs": [],
   "source": [
    "lyrics = pandas.read_csv('lyrics-data.csv')\n",
    "english_songs = lyrics['Idiom'] =='ENGLISH' \n"
   ]
  },
  {
   "cell_type": "code",
   "execution_count": 3,
   "metadata": {},
   "outputs": [],
   "source": [
    "english = lyrics[english_songs]"
   ]
  },
  {
   "cell_type": "markdown",
   "metadata": {},
   "source": []
  },
  {
   "cell_type": "code",
   "execution_count": 4,
   "metadata": {},
   "outputs": [
    {
     "name": "stdout",
     "output_type": "stream",
     "text": [
      "(3242, 6)\n"
     ]
    }
   ],
   "source": [
    "artist = pandas.read_csv('artists-data.csv')\n",
    "print(artist.shape)\n",
    "pop = artist['Genre'] == 'Pop'\n",
    "rock = artist['Genre'] == 'Rock'\n",
    "hiphop = artist['Genre'] == 'Hip Hop'\n",
    "\n",
    "popsongs = artist[pop]\n",
    "rocksongs = artist[rock]\n",
    "hiphopsongs = artist[hiphop]\n",
    "\n",
    "english_popsongs = pandas.merge(popsongs, english, left_on='Link', right_on='ALink')\n",
    "english_popsongs.to_csv('englishPopSongs.csv', index=False)\n",
    "\n",
    "english_rocksongs = pandas.merge(rocksongs, english, left_on='Link', right_on='ALink')\n",
    "english_rocksongs.to_csv('englishRockSongs.csv', index=False)\n",
    "\n",
    "english_hiphopsongs = pandas.merge(hiphopsongs, english, left_on='Link', right_on='ALink')\n",
    "english_hiphopsongs.to_csv('englishHipHopSongs.csv', index=False)\n",
    "\n"
   ]
  },
  {
   "cell_type": "code",
   "execution_count": 5,
   "metadata": {},
   "outputs": [],
   "source": [
    "\n",
    "# Apply a first round of text cleaning techniques\n",
    "import re\n",
    "import string\n",
    "\n",
    "def clean_text_round1(text):\n",
    "    '''Make text lowercase, remove text in square brackets, remove punctuation and remove words containing numbers.'''\n",
    "    text = text.lower()\n",
    "    text = re.sub('\\[.*?\\]', '', text)\n",
    "    text = re.sub('[%s]' % re.escape(string.punctuation), '', text)\n",
    "    text = re.sub('\\w*\\d\\w*', '', text)\n",
    "    return text\n",
    "\n",
    "round1 = lambda x: clean_text_round1(x)"
   ]
  },
  {
   "cell_type": "code",
   "execution_count": 6,
   "metadata": {},
   "outputs": [],
   "source": [
    "# Apply a second round of cleaning\n",
    "def clean_text_round2(text):\n",
    "    '''Get rid of some additional punctuation and non-sensical text that was missed the first time around.'''\n",
    "    text = re.sub('[‘’“”…]', '', text)\n",
    "    text = re.sub('\\n', '', text)\n",
    "    return text\n",
    "\n",
    "round2 = lambda x: clean_text_round2(x)"
   ]
  },
  {
   "cell_type": "code",
   "execution_count": 7,
   "metadata": {},
   "outputs": [],
   "source": [
    "# Apply a third round of cleaning\n",
    "def clean_text_round3(text):\n",
    "    '''Get rid of â€™Ă©Ł§ˇŞ '''\n",
    "    text = re.sub('[^A-Za-z0-9 ]+', '',text)\n",
    "    return text\n",
    "\n",
    "round3 = lambda x: clean_text_round3(x)"
   ]
  },
  {
   "cell_type": "code",
   "execution_count": 8,
   "metadata": {},
   "outputs": [],
   "source": [
    "pop_data_clean_round1 = pandas.DataFrame(english_popsongs['Lyric'].apply(clean_text_round1))\n",
    "rock_data_clean_round1 = pandas.DataFrame(english_rocksongs['Lyric'].apply(clean_text_round1))\n",
    "hiphop_data_clean_round1 = pandas.DataFrame(english_hiphopsongs['Lyric'].apply(clean_text_round1))"
   ]
  },
  {
   "cell_type": "code",
   "execution_count": 9,
   "metadata": {},
   "outputs": [],
   "source": [
    "pop_data_clean_round2 = pandas.DataFrame(english_popsongs['Lyric'].apply(clean_text_round2))\n",
    "rock_data_clean_round2 = pandas.DataFrame(english_rocksongs['Lyric'].apply(clean_text_round2))\n",
    "hiphop_data_clean_round2 = pandas.DataFrame(english_hiphopsongs['Lyric'].apply(clean_text_round2))"
   ]
  },
  {
   "cell_type": "code",
   "execution_count": 10,
   "metadata": {},
   "outputs": [],
   "source": [
    "pop_data_clean_round3 = pandas.DataFrame(english_popsongs['Lyric'].apply(clean_text_round3))\n",
    "rock_data_clean_round3 = pandas.DataFrame(english_rocksongs['Lyric'].apply(clean_text_round3))\n",
    "hiphop_data_clean_round3 = pandas.DataFrame(english_hiphopsongs['Lyric'].apply(clean_text_round3))"
   ]
  },
  {
   "cell_type": "code",
   "execution_count": null,
   "metadata": {},
   "outputs": [],
   "source": []
  },
  {
   "cell_type": "code",
   "execution_count": 11,
   "metadata": {},
   "outputs": [],
   "source": [
    "from nltk.corpus import stopwords\n",
    "from nltk.tokenize import word_tokenize\n"
   ]
  },
  {
   "cell_type": "code",
   "execution_count": 12,
   "metadata": {},
   "outputs": [],
   "source": [
    "# remove stop words\n",
    "def clean_text_round4(text):\n",
    "    stop_words = set(stopwords.words(\"english\"))\n",
    "    words = word_tokenize(text)\n",
    "    cleanedText = '';\n",
    "    for word in words:\n",
    "        if word not in stop_words:\n",
    "            cleanedText += '{} '.format(word)\n",
    "    return cleanedText"
   ]
  },
  {
   "cell_type": "code",
   "execution_count": null,
   "metadata": {},
   "outputs": [],
   "source": [
    "pop_data_clean_round4 = pandas.DataFrame(pop_data_clean_round3['Lyric'].apply(clean_text_round4))\n",
    "rock_data_clean_round4 = pandas.DataFrame(rock_data_clean_round3['Lyric'].apply(clean_text_round4))\n",
    "hiphop_data_clean_round4 = pandas.DataFrame(hiphop_data_clean_round3['Lyric'].apply(clean_text_round4))"
   ]
  },
  {
   "cell_type": "code",
   "execution_count": null,
   "metadata": {},
   "outputs": [],
   "source": []
  },
  {
   "cell_type": "code",
   "execution_count": null,
   "metadata": {},
   "outputs": [],
   "source": [
    "from collections import Counter\n",
    "pop_mfw = Counter(\" \".join(pop_data_clean_round4[\"Lyric\"]).split()).most_common(10)\n"
   ]
  },
  {
   "cell_type": "code",
   "execution_count": null,
   "metadata": {},
   "outputs": [],
   "source": [
    "rock_mfw = Counter(\" \".join(rock_data_clean_round4 [\"Lyric\"]).split()).most_common(10)"
   ]
  },
  {
   "cell_type": "code",
   "execution_count": null,
   "metadata": {},
   "outputs": [],
   "source": [
    "hiphop_mfw = Counter(\" \".join(hiphop_data_clean_round4 [\"Lyric\"]).split()).most_common(10)"
   ]
  },
  {
   "cell_type": "code",
   "execution_count": null,
   "metadata": {},
   "outputs": [],
   "source": [
    "from wordcloud import WordCloud, STOPWORDS\n",
    "import matplotlib.pyplot as plt\n",
    "import nltk"
   ]
  },
  {
   "cell_type": "code",
   "execution_count": null,
   "metadata": {},
   "outputs": [],
   "source": [
    "comment_words = ''\n",
    "stopwords = nltk.corpus.stopwords.words('english')\n",
    "newStopWords = ['i', 'and', 'im', 'dont', 'the', 'na', 'got', 'get', 'but', 'oh', 'want', 'wan', 'go', 'gon', 'ill', 'your', 'thats', 'in', 'a' 'wont', 'ta', 'ive', 'when', 'what', 'to', 'let', 'the', 'if', 'em', 'aint', 'chorus', 'know', 'cant', 'so', 'when','this', 'verse', 'youre','go', 'its', 'ive', 'in', 'wont','just']\n",
    "stopwords.extend(newStopWords)\n",
    "\n",
    "for val in pop_data_clean_round4[\"Lyric\"]:\n",
    "    val = str(val)\n",
    "    tokens = val.split()\n",
    "    for i in range(len(tokens)):\n",
    "        tokens[i] = tokens[i].lower()\n",
    "   \n",
    "    comment_words += \" \".join(tokens)+\" \"\n",
    "\n",
    "wordcloud = WordCloud(width = 800, height = 800, \n",
    "                background_color ='white', \n",
    "                stopwords = stopwords, \n",
    "                min_font_size = 10).generate(comment_words) \n",
    "  \n",
    "# plot the WordCloud image                        \n",
    "plt.figure(figsize = (8, 8), facecolor = None) \n",
    "plt.imshow(wordcloud) \n",
    "plt.axis(\"off\") \n",
    "plt.tight_layout(pad = 0) \n",
    "  \n",
    "plt.show() "
   ]
  },
  {
   "cell_type": "code",
   "execution_count": null,
   "metadata": {},
   "outputs": [],
   "source": [
    "comment_words = ''\n",
    "for val in rock_data_clean_round4[\"Lyric\"]:\n",
    "    val = str(val)\n",
    "    tokens = val.split()\n",
    "    for i in range(len(tokens)):\n",
    "        tokens[i] = tokens[i].lower()\n",
    "   \n",
    "    comment_words += \" \".join(tokens)+\" \"\n",
    "\n",
    "wordcloud = WordCloud(width = 800, height = 800, \n",
    "                background_color ='white', \n",
    "                stopwords = stopwords, \n",
    "                min_font_size = 10).generate(comment_words) \n",
    "  \n",
    "# plot the WordCloud image                        \n",
    "plt.figure(figsize = (8, 8), facecolor = None) \n",
    "plt.imshow(wordcloud) \n",
    "plt.axis(\"off\") \n",
    "plt.tight_layout(pad = 0) \n",
    "  \n",
    "plt.show() "
   ]
  },
  {
   "cell_type": "code",
   "execution_count": null,
   "metadata": {},
   "outputs": [],
   "source": [
    "comment_words = ''\n",
    "for val in hiphop_data_clean_round4[\"Lyric\"]:\n",
    "    val = str(val)\n",
    "    tokens = val.split()\n",
    "    for i in range(len(tokens)):\n",
    "        tokens[i] = tokens[i].lower()\n",
    "   \n",
    "    comment_words += \" \".join(tokens)+\" \"\n",
    "\n",
    "wordcloud = WordCloud(width = 800, height = 800, \n",
    "                background_color ='white', \n",
    "                stopwords = stopwords, \n",
    "                min_font_size = 10).generate(comment_words) \n",
    "  \n",
    "# plot the WordCloud image                        \n",
    "plt.figure(figsize = (8, 8), facecolor = None) \n",
    "plt.imshow(wordcloud) \n",
    "plt.axis(\"off\") \n",
    "plt.tight_layout(pad = 0) \n",
    "  \n",
    "plt.show() "
   ]
  },
  {
   "cell_type": "code",
   "execution_count": null,
   "metadata": {},
   "outputs": [],
   "source": []
  }
 ],
 "metadata": {
  "kernelspec": {
   "display_name": "Python 3",
   "language": "python",
   "name": "python3"
  },
  "language_info": {
   "codemirror_mode": {
    "name": "ipython",
    "version": 3
   },
   "file_extension": ".py",
   "mimetype": "text/x-python",
   "name": "python",
   "nbconvert_exporter": "python",
   "pygments_lexer": "ipython3",
   "version": "3.8.2"
  }
 },
 "nbformat": 4,
 "nbformat_minor": 4
}

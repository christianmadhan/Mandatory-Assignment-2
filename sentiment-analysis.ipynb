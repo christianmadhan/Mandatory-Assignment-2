{
 "cells": [
  {
   "cell_type": "code",
   "execution_count": 63,
   "metadata": {},
   "outputs": [],
   "source": [
    "import pickle\n",
    "\n",
    "hiphop = []\n",
    "with (open(\"hiphop_data_cleaned.pkl\", \"rb\")) as hiphop_file:\n",
    "    while True:\n",
    "        try:\n",
    "            hiphop.append(pickle.load(hiphop_file))\n",
    "        except EOFError:\n",
    "            break"
   ]
  },
  {
   "cell_type": "code",
   "execution_count": 64,
   "metadata": {},
   "outputs": [],
   "source": [
    "pop = []\n",
    "with (open(\"pop_data_cleaned.pkl\", \"rb\")) as pop_file:\n",
    "    while True:\n",
    "        try:\n",
    "            pop.append(pickle.load(pop_file))\n",
    "        except EOFError:\n",
    "            break"
   ]
  },
  {
   "cell_type": "code",
   "execution_count": 65,
   "metadata": {},
   "outputs": [],
   "source": [
    "rock = []\n",
    "with (open(\"rock_data_cleaned.pkl\", \"rb\")) as rock_file:\n",
    "    while True:\n",
    "        try:\n",
    "            rock.append(pickle.load(rock_file))\n",
    "        except EOFError:\n",
    "            break"
   ]
  },
  {
   "cell_type": "code",
   "execution_count": 71,
   "metadata": {},
   "outputs": [],
   "source": [
    "from textblob import TextBlob\n",
    "def get_adjectives(songlist):\n",
    "    text = ','.join([str(i) for i in songlist])\n",
    "    blob_object = TextBlob(text) \n",
    "\n",
    "    data = [item for item in blob_object.tags if not item[1] == 'CD']\n",
    "    adjectives = [item for item in data if item[1] == 'JJ']\n",
    "    length = len(adjectives)\n",
    "    return length"
   ]
  },
  {
   "cell_type": "code",
   "execution_count": 72,
   "metadata": {},
   "outputs": [],
   "source": [
    "from textblob import TextBlob\n",
    "def get_nouns(songlist):\n",
    "    text = ','.join([str(i) for i in songlist])\n",
    "    blob_object = TextBlob(text) \n",
    "\n",
    "    data = [item for item in blob_object.tags if not item[1] == 'CD']\n",
    "    nouns = [item for item in data if item[1] == 'NN']\n",
    "    length = len(adjectives)\n",
    "    return length"
   ]
  },
  {
   "cell_type": "code",
   "execution_count": null,
   "metadata": {},
   "outputs": [],
   "source": [
    "pop_adj = get_adjectives(pop)\n",
    "pop_adj"
   ]
  },
  {
   "cell_type": "code",
   "execution_count": null,
   "metadata": {},
   "outputs": [],
   "source": []
  }
 ],
 "metadata": {
  "kernelspec": {
   "display_name": "Python 3.8.3 64-bit",
   "language": "python",
   "name": "python38364bit9267c384846b4e1fb69cd8aeaf09c863"
  },
  "language_info": {
   "codemirror_mode": {
    "name": "ipython",
    "version": 3
   },
   "file_extension": ".py",
   "mimetype": "text/x-python",
   "name": "python",
   "nbconvert_exporter": "python",
   "pygments_lexer": "ipython3",
   "version": "3.8.3rc1"
  }
 },
 "nbformat": 4,
 "nbformat_minor": 4
}

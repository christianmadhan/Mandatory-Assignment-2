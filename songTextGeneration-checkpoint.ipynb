{
 "cells": [
  {
   "cell_type": "markdown",
   "metadata": {},
   "source": [
    "# Text Generation"
   ]
  },
  {
   "cell_type": "markdown",
   "metadata": {},
   "source": [
    "# Introduction"
   ]
  },
  {
   "cell_type": "markdown",
   "metadata": {},
   "source": [
    "Markov chains can be used for very basic text generation. Think about every word in a corpus as a state. We can make a simple assumption that the next word is only dependent on the previous word - which is the basic assumption of a Markov chain.\n",
    "\n",
    "Markov chains don't generate text as well as deep learning, but it's a good (and fun!) start."
   ]
  },
  {
   "cell_type": "markdown",
   "metadata": {},
   "source": [
    "# Select Text to Imitate"
   ]
  },
  {
   "cell_type": "markdown",
   "metadata": {},
   "source": [
    "In this notebook, we're specifically going to generate text in the style of Ali Wong, so as a first step, let's extract the text from her comedy routine."
   ]
  },
  {
   "cell_type": "code",
   "execution_count": 4,
   "metadata": {},
   "outputs": [
    {
     "data": {
      "text/html": [
       "<div>\n",
       "<style scoped>\n",
       "    .dataframe tbody tr th:only-of-type {\n",
       "        vertical-align: middle;\n",
       "    }\n",
       "\n",
       "    .dataframe tbody tr th {\n",
       "        vertical-align: top;\n",
       "    }\n",
       "\n",
       "    .dataframe thead th {\n",
       "        text-align: right;\n",
       "    }\n",
       "</style>\n",
       "<table border=\"1\" class=\"dataframe\">\n",
       "  <thead>\n",
       "    <tr style=\"text-align: right;\">\n",
       "      <th></th>\n",
       "      <th>transcript</th>\n",
       "      <th>full_name</th>\n",
       "    </tr>\n",
       "  </thead>\n",
       "  <tbody>\n",
       "    <tr>\n",
       "      <td>ali</td>\n",
       "      <td>Ladies and gentlemen, please welcome to the st...</td>\n",
       "      <td>Ali Wong</td>\n",
       "    </tr>\n",
       "    <tr>\n",
       "      <td>anthony</td>\n",
       "      <td>Thank you. Thank you. Thank you, San Francisco...</td>\n",
       "      <td>Anthony Jeselnik</td>\n",
       "    </tr>\n",
       "    <tr>\n",
       "      <td>bill</td>\n",
       "      <td>[cheers and applause] All right, thank you! Th...</td>\n",
       "      <td>Bill Burr</td>\n",
       "    </tr>\n",
       "    <tr>\n",
       "      <td>bo</td>\n",
       "      <td>Bo What? Old MacDonald had a farm E I E I O An...</td>\n",
       "      <td>Bo Burnham</td>\n",
       "    </tr>\n",
       "    <tr>\n",
       "      <td>dave</td>\n",
       "      <td>This is Dave. He tells dirty jokes for a livin...</td>\n",
       "      <td>Dave Chappelle</td>\n",
       "    </tr>\n",
       "    <tr>\n",
       "      <td>hasan</td>\n",
       "      <td>[theme music: orchestral hip-hop] [crowd roars...</td>\n",
       "      <td>Hasan Minhaj</td>\n",
       "    </tr>\n",
       "    <tr>\n",
       "      <td>jim</td>\n",
       "      <td>[Car horn honks] [Audience cheering] [Announce...</td>\n",
       "      <td>Jim Jefferies</td>\n",
       "    </tr>\n",
       "    <tr>\n",
       "      <td>joe</td>\n",
       "      <td>[rock music playing] [audience cheering] [anno...</td>\n",
       "      <td>Joe Rogan</td>\n",
       "    </tr>\n",
       "    <tr>\n",
       "      <td>john</td>\n",
       "      <td>All right, Petunia. Wish me luck out there. Yo...</td>\n",
       "      <td>John Mulaney</td>\n",
       "    </tr>\n",
       "    <tr>\n",
       "      <td>louis</td>\n",
       "      <td>Intro\\nFade the music out. Let’s roll. Hold th...</td>\n",
       "      <td>Louis C.K.</td>\n",
       "    </tr>\n",
       "    <tr>\n",
       "      <td>mike</td>\n",
       "      <td>Wow. Hey, thank you. Thanks. Thank you, guys. ...</td>\n",
       "      <td>Mike Birbiglia</td>\n",
       "    </tr>\n",
       "    <tr>\n",
       "      <td>ricky</td>\n",
       "      <td>Hello. Hello! How you doing? Great. Thank you....</td>\n",
       "      <td>Ricky Gervais</td>\n",
       "    </tr>\n",
       "  </tbody>\n",
       "</table>\n",
       "</div>"
      ],
      "text/plain": [
       "                                                transcript         full_name\n",
       "ali      Ladies and gentlemen, please welcome to the st...          Ali Wong\n",
       "anthony  Thank you. Thank you. Thank you, San Francisco...  Anthony Jeselnik\n",
       "bill     [cheers and applause] All right, thank you! Th...         Bill Burr\n",
       "bo       Bo What? Old MacDonald had a farm E I E I O An...        Bo Burnham\n",
       "dave     This is Dave. He tells dirty jokes for a livin...    Dave Chappelle\n",
       "hasan    [theme music: orchestral hip-hop] [crowd roars...      Hasan Minhaj\n",
       "jim      [Car horn honks] [Audience cheering] [Announce...     Jim Jefferies\n",
       "joe      [rock music playing] [audience cheering] [anno...         Joe Rogan\n",
       "john     All right, Petunia. Wish me luck out there. Yo...      John Mulaney\n",
       "louis    Intro\\nFade the music out. Let’s roll. Hold th...        Louis C.K.\n",
       "mike     Wow. Hey, thank you. Thanks. Thank you, guys. ...    Mike Birbiglia\n",
       "ricky    Hello. Hello! How you doing? Great. Thank you....     Ricky Gervais"
      ]
     },
     "execution_count": 4,
     "metadata": {},
     "output_type": "execute_result"
    }
   ],
   "source": [
    "# Read in the corpus, including punctuation!\n",
    "import pandas as pd\n",
    "\n",
    "data = pd.read_pickle('corpus.pkl')\n",
    "data"
   ]
  },
  {
   "cell_type": "code",
   "execution_count": null,
   "metadata": {},
   "outputs": [],
   "source": []
  }
 ],
 "metadata": {
  "kernelspec": {
   "display_name": "Python 3",
   "language": "python",
   "name": "python3"
  },
  "language_info": {
   "codemirror_mode": {
    "name": "ipython",
    "version": 3
   },
   "file_extension": ".py",
   "mimetype": "text/x-python",
   "name": "python",
   "nbconvert_exporter": "python",
   "pygments_lexer": "ipython3",
   "version": "3.8.3rc1"
  }
 },
 "nbformat": 4,
 "nbformat_minor": 2
}
